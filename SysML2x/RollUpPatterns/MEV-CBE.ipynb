{
 "cells": [
  {
   "cell_type": "code",
   "execution_count": 4,
   "metadata": {},
   "outputs": [
    {
     "data": {
      "text/plain": [
       "Package CoffeeMaker Dynamic Power Roll-Up (33c660be-1259-43c5-9688-15401d18f4dc)\n"
      ]
     },
     "execution_count": 4,
     "metadata": {},
     "output_type": "execute_result"
    }
   ],
   "source": [
    "package 'CoffeeMaker Dynamic Power Roll-Up'{\n",
    "    import SI::Real;\n",
    "    import ScalarFunctions::sum;\n",
    "    \n",
    "    value type power;\n",
    "    \n",
    "    package 'Structure' {\n",
    "        block Car{\n",
    "            part comp1 : Comp1;\n",
    "            part comp2 : Comp2;\n",
    "        }\n",
    "        \n",
    "        block Comp1 {\n",
    "            value s1Power : Real = 1;\n",
    "            value s2Power : Real = 2;\n",
    "        }\n",
    "        block Comp2 {\n",
    "            value s1Power : Real = 3;\n",
    "            value s2Power : Real = 4;\n",
    "        }\n",
    "        \n",
    "        block 'Car CBE' specializes Car, 'Power Roll-Up Pattern'::'PowerRollUpPattern'{\n",
    "            part redefines comp1 subsets subPower {\n",
    "                value redefines s1Power = 1;\n",
    "                value redefines s2Power = 2;\n",
    "            }\n",
    "            part redefines comp2 subsets subPower {\n",
    "                value redefines s1Power = 7;\n",
    "                value redefines s2Power = 4;\n",
    "            }\n",
    "        }\n",
    "        \n",
    "        block 'Car MEV' specializes Car, 'Power Roll-Up Pattern'::'PowerRollUpPattern'{\n",
    "            part redefines comp1 subsets subPower {\n",
    "                value redefines s1Power = 1;\n",
    "                value redefines s2Power = 2;\n",
    "            }\n",
    "            part redefines comp2 subsets subPower {\n",
    "                value redefines s1Power = 3;\n",
    "                value redefines s2Power = 4;\n",
    "            }\n",
    "        }\n",
    "    }\n",
    "    \n",
    "    package 'Analysis' {\n",
    "        constraint def Difference (diff: Real, a : Real, b : Real) {\n",
    "            diff == a - b\n",
    "        }\n",
    "        \n",
    "        block Analysis {\n",
    "            value margin : Real;\n",
    "            \n",
    "            part carCBE : 'Structure'::'Car CBE';\n",
    "            part carMEV : 'Structure'::'Car MEV';\n",
    "            \n",
    "            constraint difference : Difference(\n",
    "                diff = margin,\n",
    "                a = carMEV::totalPower,\n",
    "                b = carCBE::totalPower);\n",
    "        }\n",
    "    }\n",
    "    \n",
    "    package 'Power Roll-Up Pattern' {\n",
    "        \n",
    "        constraint def TotalChildren (child : Real[*], total : Real, offset : Real) {\n",
    "            total == sum(child) + offset\n",
    "        }\n",
    "\n",
    "        \n",
    "        block 'PowerRollUpPattern'{\n",
    "            constraint sum : TotalChildren (\n",
    "                child = subPower::totalPower, \n",
    "                total = totalPower,\n",
    "                offset = power);\n",
    "            \n",
    "            part subPower : 'PowerRollUpPattern'[*];\n",
    "            \n",
    "            value 'totalPower' : power;\n",
    "            value 'power' : Real[1];         \n",
    "        } //END block 'Data Roll-up Aspect'\n",
    "    }\n",
    "}"
   ]
  },
  {
   "cell_type": "code",
   "execution_count": null,
   "metadata": {},
   "outputs": [],
   "source": []
  }
 ],
 "metadata": {
  "kernelspec": {
   "display_name": "SysML",
   "language": "sysml",
   "name": "sysml"
  },
  "language_info": {
   "codemirror_mode": "sysml",
   "file_extension": ".sysml",
   "mimetype": "text/x-sysml",
   "name": "SysML",
   "pygments_lexer": "java",
   "version": "1.0.0"
  }
 },
 "nbformat": 4,
 "nbformat_minor": 2
}
