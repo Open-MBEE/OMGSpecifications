{
 "cells": [
  {
   "cell_type": "code",
   "execution_count": 53,
   "metadata": {},
   "outputs": [
    {
     "data": {
      "text/plain": [
       "Package Structure (6cef008a)\n"
      ]
     },
     "execution_count": 53,
     "metadata": {},
     "output_type": "execute_result"
    }
   ],
   "source": [
    "package 'Structure'{\n",
    "    import ScalarValues::* ; \n",
    "    import Interfaces::* ; //Looks like I need to import this one aswell.. weird ?\n",
    "    \n",
    "    package 'Interfaces'{ \n",
    "        port def CommunicationInterface{\n",
    "            value inout data : Real; //flow properties => inout\n",
    "            ref inout commIF : CommunicationInterface; //uggghhhh not sure how this one works (seems recursive ?!)\n",
    "        }\n",
    "    }\n",
    "    \n",
    "    \n",
    "    \n",
    "    block 'Mission'{ //Mission is made of 2 parts, communicating via CommunicationLink\n",
    "        part groundStation : 'Ground Station' {\n",
    "            port redefines groundCommunicationInterface;\n",
    "        }\n",
    "        part spacecraftVehicle : 'Spacecraft Vehicle'{\n",
    "            port redefines spaceCommunicationInterface;\n",
    "        }\n",
    "        \n",
    "        interface def CommunicationLink { //defining CommunicationLink type \n",
    "            end groundPort : CommunicationInterface;\n",
    "            end spacePort : CommunicationInterface;\n",
    "        }\n",
    "        \n",
    "        interface : CommunicationLink connect //creating the link\n",
    "            groundPort => groundStation::groundCommunicationInterface to //why is it blue though ?\n",
    "            spacePort  => spacecraftVehicle::spaceCommunicationInterface;\n",
    "    }\n",
    "    \n",
    "    \n",
    "    \n",
    "    \n",
    "    block 'Ground Station'{\n",
    "        port inout groundCommunicationInterface : CommunicationInterface;\n",
    "    }\n",
    "    \n",
    "    \n",
    "    \n",
    "    block 'Spacecraft Vehicle'{\n",
    "        port inout spaceCommunicationInterface : CommunicationInterface;\n",
    "       \n",
    "        value data : Real = 102400; //is it the correct notation for default values?\n",
    "        value battery : Real = 100;\n",
    "        value transmissionInProgress : Boolean=false;\n",
    "        value t0 : Real = 0;\n",
    "        value tfinal : Real = 0;\n",
    "    }\n",
    "    \n",
    "    \n",
    "    \n",
    "}\n",
    "\n",
    "\n"
   ]
  },
  {
   "cell_type": "code",
   "execution_count": 31,
   "metadata": {},
   "outputs": [
    {
     "data": {
      "text/plain": [
       "Package Interfaces (782d93bd)\n",
       "  [Membership] PortDefinition CommunicationInterface (3491668a)\n",
       "    [FeatureMembership] ValueProperty data (c918b94)\n",
       "      [FeatureTyping] DataType Real (77bc2e16)\n",
       "      [Subsetting] ValueProperty values (a451491)\n",
       "    [Superclassing] PortDefinition Port (4c6007fb)\n"
      ]
     },
     "execution_count": 31,
     "metadata": {},
     "output_type": "execute_result"
    }
   ],
   "source": [
    "%show Structure::Interfaces"
   ]
  }
 ],
 "metadata": {
  "kernelspec": {
   "display_name": "SysML",
   "language": "sysml",
   "name": "sysml"
  },
  "language_info": {
   "codemirror_mode": "sysml",
   "file_extension": ".sysml",
   "mimetype": "text/x-sysml",
   "name": "SysML",
   "pygments_lexer": "java",
   "version": "1.0.0"
  }
 },
 "nbformat": 4,
 "nbformat_minor": 2
}
