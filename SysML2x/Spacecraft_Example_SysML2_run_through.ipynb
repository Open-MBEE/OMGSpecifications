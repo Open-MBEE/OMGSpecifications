{
 "cells": [
  {
   "cell_type": "markdown",
   "metadata": {},
   "source": [
    "<h1>Quick context :</h1> \n",
    "\n",
    "I'm trying to build the model of a small Spacecraft using SysML2.\n",
    "<br>\n",
    "My reference for doing that is the Powerpoint presentation of August 21: <u>Intro to Pilot SysML v2 Language</u>. I encountered some issues, so my questions will be guided from there.\n",
    "<br>\n",
    "<br>\n",
    "Here are some references to the SysML 1 model :\n",
    "\n"
   ]
  },
  {
   "cell_type": "markdown",
   "metadata": {},
   "source": [
    "<hr> "
   ]
  },
  {
   "cell_type": "markdown",
   "metadata": {},
   "source": [
    "![containment](https://imgur.com/drgqZzK.jpg) \n",
    "\n",
    "![bdd](https://imgur.com/iKteipO.jpg)\n",
    "\n",
    "![ibd_mission](https://imgur.com/wsKMYn5.jpg)"
   ]
  },
  {
   "cell_type": "markdown",
   "metadata": {},
   "source": [
    "<hr>"
   ]
  },
  {
   "cell_type": "markdown",
   "metadata": {},
   "source": [
    "# Going into SysML2"
   ]
  },
  {
   "cell_type": "markdown",
   "metadata": {},
   "source": [
    "### Recreating the structure :"
   ]
  },
  {
   "cell_type": "code",
   "execution_count": 15,
   "metadata": {},
   "outputs": [
    {
     "data": {
      "text/plain": [
       "Package Structure (3a301f08)\n"
      ]
     },
     "execution_count": 15,
     "metadata": {},
     "output_type": "execute_result"
    }
   ],
   "source": [
    "package 'Structure'{\n",
    "    package 'Interfaces'{}\n",
    "    block 'Mission';\n",
    "    block 'Ground Station';\n",
    "    block 'Spacecraft Vehicle';\n",
    "}"
   ]
  },
  {
   "cell_type": "markdown",
   "metadata": {},
   "source": [
    "### Value properties, ports or interface definitions (no apparent issues)"
   ]
  },
  {
   "cell_type": "code",
   "execution_count": 13,
   "metadata": {},
   "outputs": [
    {
     "data": {
      "text/plain": [
       "Package Structure (b0c1ad0)\n"
      ]
     },
     "execution_count": 13,
     "metadata": {},
     "output_type": "execute_result"
    }
   ],
   "source": [
    "package 'Structure'{\n",
    "    import ScalarValues::* ; \n",
    "    import Interfaces::* ; //Looks like I need to import this one aswell.. weird ?\n",
    "    \n",
    "    package 'Interfaces'{ \n",
    "        port def CommunicationInterface{\n",
    "            value inout data : Real; //flow properties => inout\n",
    "            //no references ?\n",
    "        }\n",
    "        \n",
    "        interface def CommunicationLink { //defining CommunicationLink INTERFACE which is an association block whose ends are ports\n",
    "            end groundPort : CommunicationInterface;\n",
    "            end spacePort : CommunicationInterface;\n",
    "            stream spacePort::data to groundPort::data;\n",
    "        }\n",
    "    }\n",
    "    \n",
    "    block 'Mission'{ //Mission is made of 2 parts, communicating via CommunicationLink\n",
    "        \n",
    "        part groundStation : 'Ground Station' {\n",
    "            port groundCommIF redefines CommIF;\n",
    "        }\n",
    "        \n",
    "        part spacecraftVehicle : 'Spacecraft Vehicle'{\n",
    "            port spaceCommIF redefines CommIF1;\n",
    "        }\n",
    "        \n",
    "        interface : CommunicationLink connect            //creating interface\n",
    "            groundPort => groundStation::groundCommIF to \n",
    "            spacePort  => spacecraftVehicle::spaceCommIF; \n",
    "    }\n",
    "    \n",
    "    \n",
    "    block 'Ground Station'{\n",
    "        port inout CommIF : CommunicationInterface;      \n",
    "    }\n",
    "      \n",
    "    block 'Spacecraft Vehicle'{\n",
    "        port inout CommIF1 : CommunicationInterface;\n",
    "        \n",
    "        value data : Real = 102400;\n",
    "        value battery : Real = 100;\n",
    "        value transmissionInProgress : Boolean=false;\n",
    "        value t0 : Real = 0;\n",
    "        value tfinal : Real = 0;\n",
    "    }\n",
    "}"
   ]
  },
  {
   "cell_type": "markdown",
   "metadata": {},
   "source": [
    " <hr>"
   ]
  },
  {
   "cell_type": "markdown",
   "metadata": {},
   "source": [
    "## Defining activities and actions"
   ]
  },
  {
   "cell_type": "markdown",
   "metadata": {},
   "source": [
    "This is where the troubles begin.<br>\n",
    "<span style=\"color:red\">For the sake of clarity, I'll just expose the blocks that are useful, the cells won't be runnable anymore, but the full version is available down below.</span><br>\n",
    "I listed the activities each block contains and tried to depict and formalize the flow of actions happening in said activities.</br>"
   ]
  },
  {
   "cell_type": "code",
   "execution_count": null,
   "metadata": {},
   "outputs": [],
   "source": [
    "    block Data;\n",
    "    block Signal; //I did not find any other solutions to have signals flowing from one activity to another\n",
    "    \n",
    "    block 'Ground Station'{\n",
    "        port inout CommIF : CommunicationInterface;      \n",
    "        \n",
    "        \n",
    "        activity PingSpacecraft(out ping:Signal){\n",
    "            // 1. send signal on CommunicationLink interface \n",
    "        } \n",
    "        \n",
    "        activity ReceiveData(in dataPacket:Data){\n",
    "            // 0. merge node\n",
    "            // 1. waiting for a trigger : Data Packet arriving on CommunicationLink\n",
    "            // 2. process data (flow dataframe from port to processing action)\n",
    "                // (flow trigger::dataPacket to process::dataPacket;)\n",
    "            // 3. repeat (recursive ? or flow to merge node)\n",
    "        }\n",
    "    }\n",
    "    \n",
    "    \n",
    "    \n",
    "    block 'Spacecraft Vehicle'{\n",
    "        port inout CommIF1 : CommunicationInterface;\n",
    "       \n",
    "        activity ConsumePower(in deviceOff:Signal, out batteryLow:Signal){\n",
    "            // 0. in case trigger:DeviceOff => \"stop action\"\n",
    "            // 1. merge node\n",
    "            // 2. battery--;\n",
    "            // 3a. case battery <40 : send signal 'Battery Low' to TransmitData process\n",
    "            // 3b. case battery >40 : flow to merge node 1.\n",
    "        }\n",
    "\n",
    "        activity RechargeBatteries(out fullCharge:Signal){\n",
    "            // 1. merge node\n",
    "            // 2a. case battery >=100 : send signal 'Battery fully charged' then stop action\n",
    "            // 2b. case battery <100 : battery++; then flow to merge node 1.\n",
    "        }\n",
    "        \n",
    "        activity SendDataFrames(out dataPacket:Data){\n",
    "            // 1. data = data-1024;\n",
    "            // 2. send DataPacket on CommunicationInterface to Ground Station \n",
    "        }\n",
    "        \n",
    "        \n",
    "        activity TransmitData(in batteryLow:Signal, \n",
    "                              out deviceOff:Signal, \n",
    "                              out transmissionDone:Signal){\n",
    "            // 00 trigger \"battery low\" : go to 6.Merge\n",
    "            // 1. run small Javascript Expression\n",
    "            // 2. Fork (consume power + the following)\n",
    "            // 3. Merge\n",
    "            // 4. Decision\n",
    "            // 5. Case data>0 : sendDataFrames() then go back to 3.Merge\n",
    "            // 5. Case data=0 : Javascript expression\n",
    "            // 6. Merge \n",
    "            // 7. Send signal Device Off to activity ConsumePower\n",
    "            // 8. Send signal Transmission Done  \n",
    "        }\n",
    "        \n",
    "                \n",
    "        value data : Real = 102400;\n",
    "        value battery : Real = 100;\n",
    "        value transmissionInProgress : Boolean=false;\n",
    "        value t0 : Real = 0;\n",
    "        value tfinal : Real = 0;\n",
    "    }"
   ]
  },
  {
   "cell_type": "markdown",
   "metadata": {},
   "source": [
    "  <hr>"
   ]
  },
  {
   "cell_type": "markdown",
   "metadata": {},
   "source": [
    "   "
   ]
  },
  {
   "cell_type": "markdown",
   "metadata": {},
   "source": [
    "<b style=\"color:red\">I encountered many issues when trying to actually implement those activities, and I'll now try to go over them one by one.</b>"
   ]
  },
  {
   "cell_type": "markdown",
   "metadata": {},
   "source": [
    "<h2>Operations on value properties</h2><br>\n",
    "Is it possible to make operations on the value properties of a block in an action? <br>\n",
    "An example of a use-case would be on line 1. of SendDataFrames activity:"
   ]
  },
  {
   "cell_type": "code",
   "execution_count": null,
   "metadata": {},
   "outputs": [],
   "source": [
    "activity SendDataFrames(out dataPacket:Data){\n",
    "            // 1. data = data-1024;\n",
    "            // 2. send DataPacket on CommunicationInterface to Ground Station \n",
    "        }"
   ]
  },
  {
   "cell_type": "markdown",
   "metadata": {},
   "source": [
    "<hr>"
   ]
  },
  {
   "cell_type": "markdown",
   "metadata": {},
   "source": [
    "<h2>Forks and action flow</h2>\n",
    "<ul>\n",
    "    <li>Are forks a thing in SysML2, or is it simply not specifying a 'then' before calling the following action?</li>\n",
    "    <li>What happens if I call multiple actions in an activity, without calling one 'then' the other? Will they run simultaneously?</li>\n",
    "    <li>Is the keyword 'then' the best way to represent an action flow inside an activity?</li>\n",
    "</ul>"
   ]
  },
  {
   "cell_type": "markdown",
   "metadata": {},
   "source": [
    "<hr>"
   ]
  },
  {
   "cell_type": "markdown",
   "metadata": {},
   "source": [
    "<h2>Merge and decision nodes</h2>\n",
    "The following example will be useful:"
   ]
  },
  {
   "cell_type": "markdown",
   "metadata": {},
   "source": [
    "![act_recharge](https://imgur.com/fKHl12u.jpg)\n",
    "I tried defining the merge node following the example slide 31:"
   ]
  },
  {
   "cell_type": "code",
   "execution_count": null,
   "metadata": {},
   "outputs": [],
   "source": [
    "activity RechargeBatteries(){\n",
    "    first start;\n",
    "    then[0..1] action mergeNode : Activities::Merge;\n",
    "    // decision node\n",
    "        // battery++;\n",
    "        then[0..1] mergeNode;\n",
    "    //else ...\n",
    "    }"
   ]
  },
  {
   "cell_type": "markdown",
   "metadata": {},
   "source": [
    "<h4>Here are some questions:</h4>\n",
    "<ul>\n",
    "    <li>Is the merge node correctly defined in this case?</li>\n",
    "    <li>What is the multiplicity ( [0..1] ) used for? What does it define?</li>\n",
    "    <li>Is it possible to use Activities::Decision to define a Decision Node, and if so: How?"
   ]
  },
  {
   "cell_type": "markdown",
   "metadata": {},
   "source": [
    "<hr>"
   ]
  },
  {
   "cell_type": "markdown",
   "metadata": {},
   "source": [
    "<h2>Sending signals to other parts/activities</h2>\n",
    "Using the simplest example :\n",
    "\n",
    "![send_ping](https://imgur.com/GX0t4TL.jpg)"
   ]
  },
  {
   "cell_type": "markdown",
   "metadata": {},
   "source": [
    "I want the ping to be sent to the Spacecraft Vehicle via the CommunicationInterface on port groundCommIF.<br>\n",
    "<ul>\n",
    "    <li>How would one define this activity? (See right down below)</li>\n",
    "    <li>Is the target \"Spacecraft Vehicle\", groundPort, spacePort or CommunicationLink?</li>\n",
    "    <li>Do I need to define a block Signal, or is there an intergrated thing for this kind of signaling?</li>\n",
    "</ul>"
   ]
  },
  {
   "cell_type": "code",
   "execution_count": null,
   "metadata": {},
   "outputs": [],
   "source": [
    "send ping:Signal to \"Spacecraft Vehicle\";"
   ]
  },
  {
   "cell_type": "markdown",
   "metadata": {},
   "source": [
    "^ This line prompted an error requiring an \"of\" argument."
   ]
  },
  {
   "cell_type": "code",
   "execution_count": null,
   "metadata": {},
   "outputs": [],
   "source": [
    "send ping:Signal of null to \"Spacecraft Vehicle\";"
   ]
  },
  {
   "cell_type": "markdown",
   "metadata": {},
   "source": [
    "^ This ran without error, but what is the null expected to be? This is not referred to in the slides"
   ]
  },
  {
   "cell_type": "markdown",
   "metadata": {},
   "source": [
    " <hr>"
   ]
  },
  {
   "cell_type": "markdown",
   "metadata": {},
   "source": [
    "<h2>Receiving a signal from another part/activity</h2>\n",
    "<br>\n",
    "Using the receiving end from the last example, where would I define the trigger? In the SysML1 model, WaitingforGroundStationPing is a state in the state-machine diagram, but never is there an activity that awaits the trigger of the ping.\n",
    "<br><br>\n",
    "Using another example:\n",
    "\n",
    "![receiving_ping](https://imgur.com/ZGEanDG.jpg)"
   ]
  },
  {
   "cell_type": "markdown",
   "metadata": {},
   "source": [
    "Following slide 30 (Signaling), I would be tempted to write the following:"
   ]
  },
  {
   "cell_type": "code",
   "execution_count": null,
   "metadata": {},
   "outputs": [],
   "source": [
    "activity ReceiveData(in data:Data flow from \"Spacecraft Vehicle\"::SendDataFrames::data){\n",
    "    action merge : Activities::Merge;\n",
    "    accept trigger(data:Data);\n",
    "    then action processData(data);\n",
    "    then[0..1] merge;\n",
    "}"
   ]
  },
  {
   "cell_type": "markdown",
   "metadata": {},
   "source": [
    "But I'm really not sure I understand how the (accept) trigger works. \n",
    "<ul><li>How does the trigger know where to \"sniff\" for data? Should I pass as argument the port on which I want the trigger to listen instead?</li>\n",
    "    <li>If not, some indications would be appreciated</li></ul>\n",
    "        \n",
    "But the \"Spacecraft Vehicle\" block is not accessible from this function which I understand, and that bring me to my next question:\n"
   ]
  },
  {
   "attachments": {},
   "cell_type": "markdown",
   "metadata": {},
   "source": [
    "<h2>Arguments flowing between activities</h2>\n",
    "<ul>\n",
    "    <li>How does one activity accept \"in arguments\" from activities nested in another block?</li> \n",
    "    <li>Do I need to define the activities with 'action' from the Mission block?</li>\n",
    "</ul>\n",
    "\n",
    "From my (basic) understanding, the SysML1 model has both the actions and activities defined inside the GroundStation and Spacecraft blocks. And they’re called once the blocks are \"instantiated\" (part properties) in the Mission block.<br>\n",
    "But it seems to me like the Action Allocation slide (s. 32) suggests that I should call the activities myself while instantiating the blocks."
   ]
  },
  {
   "cell_type": "code",
   "execution_count": null,
   "metadata": {},
   "outputs": [],
   "source": []
  },
  {
   "cell_type": "code",
   "execution_count": null,
   "metadata": {},
   "outputs": [],
   "source": []
  },
  {
   "cell_type": "markdown",
   "metadata": {},
   "source": [
    "### So here is what I have for now, I'm blocked at the activity definition"
   ]
  },
  {
   "cell_type": "code",
   "execution_count": 2,
   "metadata": {},
   "outputs": [
    {
     "data": {
      "text/plain": [
       "Package Structure (e2ea939)\n"
      ]
     },
     "execution_count": 2,
     "metadata": {},
     "output_type": "execute_result"
    }
   ],
   "source": [
    "package 'Structure'{\n",
    "    import ScalarValues::* ; \n",
    "    import Interfaces::* ; //Looks like I need to import this one aswell.. weird ?\n",
    "    \n",
    "    package 'Interfaces'{ \n",
    "        port def CommunicationInterface{\n",
    "            value inout data : Real; //flow properties => inout\n",
    "            //no references ?\n",
    "        }\n",
    "        \n",
    "        interface def CommunicationLink { //defining CommunicationLink INTERFACE which is an association block whose ends are ports\n",
    "            end groundPort : CommunicationInterface;\n",
    "            end spacePort : CommunicationInterface;\n",
    "            stream spacePort::data to groundPort::data;\n",
    "        }\n",
    "    }\n",
    "    \n",
    "    \n",
    "    \n",
    "    block 'Mission'{ //Mission is made of 2 parts, communicating via CommunicationLink\n",
    "        \n",
    "        part groundStation : 'Ground Station' {\n",
    "            port groundCommIF redefines CommIF;\n",
    "        }\n",
    "        \n",
    "        part spacecraftVehicle : 'Spacecraft Vehicle'{\n",
    "            port spaceCommIF redefines CommIF1;\n",
    "        }\n",
    "        \n",
    "        interface : CommunicationLink connect            //creating interface\n",
    "            groundPort => groundStation::groundCommIF to \n",
    "            spacePort  => spacecraftVehicle::spaceCommIF; \n",
    "    }\n",
    "    \n",
    "    \n",
    "      block Data;\n",
    "      block Signal; //I did not find any other solutions to have signals flowing from one activity to another\n",
    "    \n",
    "    block 'Ground Station'{\n",
    "        port inout CommIF : CommunicationInterface;      \n",
    "        \n",
    "        \n",
    "        activity PingSpacecraft(out ping:Signal){\n",
    "            // 1. send signal on CommunicationLink interface \n",
    "        } \n",
    "        \n",
    "        activity ReceiveData(in dataPacket:Data){\n",
    "            // 0. merge node\n",
    "            // 1. waiting for a trigger : Data Packet arriving on CommunicationLink\n",
    "            // 2. process data (flow dataframe from port to processing action)\n",
    "                // (flow trigger::dataPacket to process::dataPacket;)\n",
    "            // 3. repeat (recursive ? or flow to merge node)\n",
    "        }\n",
    "    }\n",
    "    \n",
    "    \n",
    "    \n",
    "    block 'Spacecraft Vehicle'{\n",
    "        port inout CommIF1 : CommunicationInterface;\n",
    "       \n",
    "        activity ConsumePower(in deviceOff:Signal, out batteryLow:Signal){\n",
    "            // 0. in case trigger:DeviceOff => \"stop action\"\n",
    "            // 1. merge node\n",
    "            // 2. battery--;\n",
    "            // 3a. case battery <40 : send signal 'Battery Low' to TransmitData process\n",
    "            // 3b. case battery >40 : flow to merge node 1.\n",
    "        }\n",
    "\n",
    "        activity RechargeBatteries(out fullCharge:Signal){\n",
    "            // 1. merge node\n",
    "            // 2a. case battery >=100 : send signal 'Battery fully charged' then stop action\n",
    "            // 2b. case battery <100 : battery++; then flow to merge node 1.\n",
    "        }\n",
    "        \n",
    "        activity SendDataFrames(out dataPacket:Data){\n",
    "            // 1. data = data-1024;\n",
    "            // 2. send DataPacket on CommunicationInterface to Ground Station \n",
    "        }\n",
    "        \n",
    "        \n",
    "        activity TransmitData(in batteryLow:Signal, \n",
    "                              out deviceOff:Signal, \n",
    "                              out transmissionDone:Signal){\n",
    "            // 00 trigger \"battery low\" : go to 6.Merge\n",
    "            // 1. run small Javascript Expression\n",
    "            // 2. Fork (consume power + the following)\n",
    "            // 3. Merge\n",
    "            // 4. Decision\n",
    "            // 5. Case data>0 : sendDataFrames() then go back to 3.Merge\n",
    "            // 5. Case data=0 : Javascript expression\n",
    "            // 6. Merge \n",
    "            // 7. Send signal Device Off to activity ConsumePower\n",
    "            // 8. Send signal Transmission Done  \n",
    "        }\n",
    "        \n",
    "                \n",
    "        value data : Real = 102400;\n",
    "        value battery : Real = 100;\n",
    "        value transmissionInProgress : Boolean=false;\n",
    "        value t0 : Real = 0;\n",
    "        value tfinal : Real = 0;\n",
    "    }\n",
    "}"
   ]
  },
  {
   "cell_type": "code",
   "execution_count": null,
   "metadata": {},
   "outputs": [],
   "source": []
  },
  {
   "cell_type": "code",
   "execution_count": 3,
   "metadata": {
    "collapsed": true
   },
   "outputs": [
    {
     "data": {
      "text/plain": [
       "Block Ground Station (3fd19188)\n",
       "  [FeatureMembership] PortUsage CommIF (79670fb8)\n",
       "    [FeatureTyping] PortDefinition CommunicationInterface (4d1d80de)\n",
       "    [Subsetting] PortUsage ports (3c5dbdf8)\n",
       "  [Membership] Activity PingSpacecraft (652fc517)\n",
       "    [Superclassing] Activity Action (23b8d9f3)\n",
       "  [Membership] Activity ReceiveData (65769740)\n",
       "    [ParameterMembership] Parameter data (784db959)\n",
       "      [FeatureTyping] Block Data (549871b2)\n",
       "      [Subsetting] Feature objects (1f387978)\n",
       "    [Superclassing] Activity Action (23b8d9f3)\n",
       "  [FeatureMembership] Action pingSpacecraft (40807d1b)\n",
       "    [FeatureTyping] Activity PingSpacecraft (652fc517)\n",
       "    [ParameterMembership] Parameter (6e961cd4)\n",
       "      [Subsetting] Feature things (453d496b)\n",
       "    [Subsetting] Action performedActions (2f5ac102)\n",
       "  [FeatureMembership] Action receiveData (6c77c9b7)\n",
       "    [FeatureTyping] Activity ReceiveData (65769740)\n",
       "    [ParameterMembership] Parameter (66c4d917)\n",
       "      [Redefinition] Parameter data (784db959)\n",
       "    [FeatureMembership] Action start (5d43409a)\n",
       "    [FeatureMembership] Action merge (1cb24546)\n",
       "      [FeatureMembership] Succession (cf2aae6)\n",
       "        [EndFeatureMembership] SourceEnd (3846592)\n",
       "          [Multiplicity] LiteralInteger (2ef52a06)\n",
       "            [ReturnParameterMembership] Parameter $result (76a2cc08)\n",
       "          [Multiplicity] LiteralInteger (37b6f7f2)\n",
       "            [ReturnParameterMembership] Parameter $result (19fc7665)\n",
       "          [Subsetting] Action start (5d43409a)\n",
       "          [Redefinition] Feature earlierOccurrence (87b5b49)\n",
       "        [EndFeatureMembership] TargetEnd (7665b60a)\n",
       "          [Subsetting] Action merge (1cb24546)\n",
       "          [Redefinition] Feature laterOccurrence (6c796cc1)\n",
       "        [Subsetting] Feature successions (6601cc93)\n",
       "      [FeatureTyping] Activity Merge (46c269e0)\n",
       "      [Subsetting] Action subactions (2127e66e)\n",
       "    [FeatureMembership] AcceptAction trigger (14438b9e)\n",
       "      [FeatureMembership] Succession (5f83a31e)\n",
       "        [EndFeatureMembership] SourceEnd (55e4c240)\n",
       "          [Subsetting] Action merge (1cb24546)\n",
       "          [Redefinition] Feature earlierOccurrence (87b5b49)\n",
       "        [EndFeatureMembership] TargetEnd (3505eeda)\n",
       "          [Subsetting] AcceptAction trigger (14438b9e)\n",
       "          [Redefinition] Feature laterOccurrence (6c796cc1)\n",
       "        [Subsetting] Feature successions (6601cc93)\n",
       "      [FeatureMembership] ItemFeature data (6db2c3d)\n",
       "        [FeatureTyping] Block Data (549871b2)\n",
       "        [Subsetting] Feature objects (1f387978)\n",
       "      [Subsetting] Action subactions (2127e66e)\n",
       "    [FeatureMembership] Action processData (f506dc9)\n",
       "      [FeatureMembership] Succession (533a7ff5)\n",
       "        [EndFeatureMembership] SourceEnd (cc13018)\n",
       "          [Subsetting] AcceptAction trigger (14438b9e)\n",
       "          [Redefinition] Feature earlierOccurrence (87b5b49)\n",
       "        [EndFeatureMembership] TargetEnd (745f4c39)\n",
       "          [Subsetting] Action processData (f506dc9)\n",
       "          [Redefinition] Feature laterOccurrence (6c796cc1)\n",
       "        [Subsetting] Feature successions (6601cc93)\n",
       "      [ParameterMembership] Parameter data (682e39e6)\n",
       "        [Subsetting] Feature things (453d496b)\n",
       "      [FeatureMembership] SuccessionItemFlow (40a61984)\n",
       "        [FeatureMembership] ItemFeature (60a0acea)\n",
       "          [Subsetting] Feature things (453d496b)\n",
       "        [EndFeatureMembership] ItemFlowEnd (6b80d3a9)\n",
       "          [FeatureMembership] ItemFlowFeature (3598c5dd)\n",
       "            [Redefinition] ItemFeature data (6db2c3d)\n",
       "            [Redefinition] Feature sourceOutput (6e4f263e)\n",
       "            [Redefinition] Feature sourceOutput (6e4f263e)\n",
       "          [Subsetting] AcceptAction trigger (14438b9e)\n",
       "          [Redefinition] Feature earlierOccurrence (4ad3d266)\n",
       "          [Redefinition] Feature transferSource (ff23ae7)\n",
       "          [Redefinition] Feature transferSource (1caa9eb6)\n",
       "          [Redefinition] Feature source (5ce4369b)\n",
       "        [Subsetting] Step subflows (6f7e336b)\n",
       "      [Subsetting] Action subactions (2127e66e)\n",
       "    [FeatureMembership] Succession (103d6ae6)\n",
       "      [EndFeatureMembership] SourceEnd (2a2e89b5)\n",
       "        [Multiplicity] LiteralInteger (557fbcae)\n",
       "          [ReturnParameterMembership] Parameter $result (61755d95)\n",
       "        [Multiplicity] LiteralInteger (71bb39e3)\n",
       "          [ReturnParameterMembership] Parameter $result (7039f4f2)\n",
       "        [Subsetting] Action processData (f506dc9)\n",
       "        [Redefinition] Feature earlierOccurrence (87b5b49)\n",
       "      [EndFeatureMembership] Feature (517257bf)\n",
       "        [Subsetting] Action merge (1cb24546)\n",
       "        [Redefinition] Feature laterOccurrence (6c796cc1)\n",
       "      [Subsetting] Feature successions (6601cc93)\n",
       "    [Subsetting] Action performedActions (2f5ac102)\n",
       "  [Superclassing] Block Part (7a0e7ecd)\n"
      ]
     },
     "execution_count": 3,
     "metadata": {},
     "output_type": "execute_result"
    }
   ],
   "source": [
    "%show Structure::\"Ground Station\""
   ]
  },
  {
   "cell_type": "code",
   "execution_count": 18,
   "metadata": {
    "collapsed": true
   },
   "outputs": [
    {
     "data": {
      "text/plain": [
       "Block Spacecraft Vehicle (13021680)\n",
       "  [FeatureMembership] PortUsage CommIF1 (705b2998)\n",
       "    [FeatureTyping] PortDefinition CommunicationInterface (70750bfa)\n",
       "    [Subsetting] PortUsage ports (7a0e7ecd)\n",
       "  [Membership] Activity ConsumePower (ebd959c)\n",
       "    [Superclassing] Activity Action (1e58512c)\n",
       "  [Membership] Activity RechargeBatteries (479e4d69)\n",
       "    [Superclassing] Activity Action (1e58512c)\n",
       "  [Membership] Activity SendDataFrames (6bdac984)\n",
       "    [ParameterMembership] Parameter data (62f446e5)\n",
       "      [FeatureTyping] Block Data (64054b3c)\n",
       "      [Subsetting] Feature objects (2116b68b)\n",
       "    [Superclassing] Activity Action (1e58512c)\n",
       "  [Membership] Activity TransmitData (697596ec)\n",
       "    [Superclassing] Activity Action (1e58512c)\n",
       "  [FeatureMembership] Action transmitData (5098a17d)\n",
       "    [FeatureTyping] Activity TransmitData (697596ec)\n",
       "    [ParameterMembership] Parameter data (12bd2230)\n",
       "      [FeatureTyping] Block Data (64054b3c)\n",
       "      [Subsetting] Feature objects (2116b68b)\n",
       "    [Subsetting] Action performedActions (5b852b49)\n",
       "  [FeatureMembership] ValueProperty data (7baf807f)\n",
       "    [FeatureTyping] DataType Real (48e8c32a)\n",
       "    [FeatureValue] LiteralInteger (368fe4a7)\n",
       "      [ReturnParameterMembership] Parameter $result (5afe2c8a)\n",
       "    [Subsetting] ValueProperty values (1422ac7f)\n",
       "    [FeatureMembership] BindingConnector (f08f0bc)\n",
       "      [EndFeatureMembership] Feature (1d087745)\n",
       "        [Subsetting] Parameter $result (5afe2c8a)\n",
       "        [Redefinition] Feature source (30814f43)\n",
       "      [EndFeatureMembership] Feature (409e188e)\n",
       "        [Subsetting] ValueProperty data (7baf807f)\n",
       "        [Redefinition] Feature target (7e2f86e6)\n",
       "      [Subsetting] Feature selfLinks (3c6aa04a)\n",
       "  [FeatureMembership] ValueProperty battery (7514858c)\n",
       "    [FeatureTyping] DataType Real (48e8c32a)\n",
       "    [FeatureValue] LiteralInteger (3cfc7bba)\n",
       "      [ReturnParameterMembership] Parameter $result (706e0503)\n",
       "    [Subsetting] ValueProperty values (1422ac7f)\n",
       "    [FeatureMembership] BindingConnector (535e8be1)\n",
       "      [EndFeatureMembership] Feature (216cd612)\n",
       "        [Subsetting] Parameter $result (706e0503)\n",
       "        [Redefinition] Feature source (30814f43)\n",
       "      [EndFeatureMembership] Feature (402c5c65)\n",
       "        [Subsetting] ValueProperty battery (7514858c)\n",
       "        [Redefinition] Feature target (7e2f86e6)\n",
       "      [Subsetting] Feature selfLinks (3c6aa04a)\n",
       "  [FeatureMembership] ValueProperty transmissionInProgress (4d4460f1)\n",
       "    [FeatureTyping] DataType Boolean (ceddaf8)\n",
       "    [FeatureValue] LiteralBoolean (20d3f5d7)\n",
       "      [ReturnParameterMembership] Parameter $result (41392960)\n",
       "    [Subsetting] ValueProperty values (1422ac7f)\n",
       "    [FeatureMembership] BindingConnector (3f4eb415)\n",
       "      [EndFeatureMembership] Feature (6316e8ae)\n",
       "        [Subsetting] Parameter $result (41392960)\n",
       "        [Redefinition] Feature source (30814f43)\n",
       "      [EndFeatureMembership] Feature (5d021f12)\n",
       "        [Subsetting] ValueProperty transmissionInProgress (4d4460f1)\n",
       "        [Redefinition] Feature target (7e2f86e6)\n",
       "      [Subsetting] Feature selfLinks (3c6aa04a)\n",
       "  [FeatureMembership] ValueProperty t0 (60f76e25)\n",
       "    [FeatureTyping] DataType Real (48e8c32a)\n",
       "    [FeatureValue] LiteralInteger (66125ed3)\n",
       "      [ReturnParameterMembership] Parameter $result (7d60ec83)\n",
       "    [Subsetting] ValueProperty values (1422ac7f)\n",
       "    [FeatureMembership] BindingConnector (bc20eb2)\n",
       "      [EndFeatureMembership] Feature (37a23892)\n",
       "        [Subsetting] Parameter $result (7d60ec83)\n",
       "        [Redefinition] Feature source (30814f43)\n",
       "      [EndFeatureMembership] Feature (b0247e5)\n",
       "        [Subsetting] ValueProperty t0 (60f76e25)\n",
       "        [Redefinition] Feature target (7e2f86e6)\n",
       "      [Subsetting] Feature selfLinks (3c6aa04a)\n",
       "  [FeatureMembership] ValueProperty tfinal (7d97de07)\n",
       "    [FeatureTyping] DataType Real (48e8c32a)\n",
       "    [FeatureValue] LiteralInteger (264f7700)\n",
       "      [ReturnParameterMembership] Parameter $result (4f0e2a6c)\n",
       "    [Subsetting] ValueProperty values (1422ac7f)\n",
       "    [FeatureMembership] BindingConnector (6a79d684)\n",
       "      [EndFeatureMembership] Feature (270c6c3)\n",
       "        [Subsetting] Parameter $result (4f0e2a6c)\n",
       "        [Redefinition] Feature source (30814f43)\n",
       "      [EndFeatureMembership] Feature (1a485bfa)\n",
       "        [Subsetting] ValueProperty tfinal (7d97de07)\n",
       "        [Redefinition] Feature target (7e2f86e6)\n",
       "      [Subsetting] Feature selfLinks (3c6aa04a)\n",
       "  [Superclassing] Block Part (65b97f47)\n"
      ]
     },
     "execution_count": 18,
     "metadata": {},
     "output_type": "execute_result"
    }
   ],
   "source": [
    "%show Structure::\"Spacecraft Vehicle\""
   ]
  },
  {
   "cell_type": "code",
   "execution_count": null,
   "metadata": {},
   "outputs": [],
   "source": []
  }
 ],
 "metadata": {
  "kernelspec": {
   "display_name": "SysML",
   "language": "sysml",
   "name": "sysml"
  },
  "language_info": {
   "codemirror_mode": "sysml",
   "file_extension": ".sysml",
   "mimetype": "text/x-sysml",
   "name": "SysML",
   "pygments_lexer": "java",
   "version": "1.0.0"
  }
 },
 "nbformat": 4,
 "nbformat_minor": 2
}
